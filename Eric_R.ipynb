{
  "nbformat": 4,
  "nbformat_minor": 0,
  "metadata": {
    "colab": {
      "provenance": [],
      "authorship_tag": "ABX9TyP6E3O5R7WpTZNfpYhE89t4",
      "include_colab_link": true
    },
    "kernelspec": {
      "name": "python3",
      "display_name": "Python 3"
    },
    "language_info": {
      "name": "python"
    }
  },
  "cells": [
    {
      "cell_type": "markdown",
      "metadata": {
        "id": "view-in-github",
        "colab_type": "text"
      },
      "source": [
        "<a href=\"https://colab.research.google.com/github/Ericrzisu/myitclass/blob/main/Eric_R.ipynb\" target=\"_parent\"><img src=\"https://colab.research.google.com/assets/colab-badge.svg\" alt=\"Open In Colab\"/></a>"
      ]
    },
    {
      "cell_type": "code",
      "execution_count": 1,
      "metadata": {
        "colab": {
          "base_uri": "https://localhost:8080/",
          "height": 133
        },
        "id": "WqciFloxQiAh",
        "outputId": "e1d1a7d6-92d9-4929-f8ea-4b1bd30715cc"
      },
      "outputs": [
        {
          "output_type": "error",
          "ename": "SyntaxError",
          "evalue": "ignored",
          "traceback": [
            "\u001b[0;36m  File \u001b[0;32m\"<ipython-input-1-c3ff8dbe03d6>\"\u001b[0;36m, line \u001b[0;32m2\u001b[0m\n\u001b[0;31m    print{(yourName, end='')\u001b[0m\n\u001b[0m         ^\u001b[0m\n\u001b[0;31mSyntaxError\u001b[0m\u001b[0;31m:\u001b[0m invalid syntax\n"
          ]
        }
      ],
      "source": [
        "eric=input()\n",
        "print{(yourName, end='')\n",
        "print(':Welcome')\n",
        "\n",
        "Eric\n",
        "Eric:Welcome}"
      ]
    },
    {
      "cell_type": "code",
      "source": [
        "#question1\n",
        "# rectangle perimater and area\n",
        "width=float(input('provide the width of the rectangle:'))\n",
        "height=float(input('provide the height of the rectangle:'))\n",
        "\n",
        "\n",
        "area=width* height\n",
        "perimeter= 2*(width+height)\n",
        "\n",
        "\n",
        "print('The area of the rectangle is' , area)\n",
        "print('the perimeter of the rectangle is' , perimeter)"
      ],
      "metadata": {
        "colab": {
          "base_uri": "https://localhost:8080/"
        },
        "id": "X5ccYQeFU2di",
        "outputId": "afa298f9-6293-4ab8-8d49-d802b4c0ce71"
      },
      "execution_count": 6,
      "outputs": [
        {
          "output_type": "stream",
          "name": "stdout",
          "text": [
            "provide the width of the rectangle:6\n",
            "provide the height of the rectangle:5\n",
            "The area of the rectangle is 30.0\n",
            "the perimeter of the rectangle is 22.0\n"
          ]
        }
      ]
    },
    {
      "cell_type": "code",
      "source": [
        "#question 2\n",
        "weight=float(input('provide the weight in pounds')\n",
        "height=float(input('provide the height in inches')\n",
        "\n",
        "BMI= (weight/(height*height))\n",
        "\n",
        "\n",
        "print('the BMI for someone with height {:.2f} and weight {:.1f} is {:.3f} '.format(height, weight,BMI))\n",
        "\n",
        "\n",
        "\n",
        "\n"
      ],
      "metadata": {
        "colab": {
          "base_uri": "https://localhost:8080/",
          "height": 133
        },
        "id": "c7edV7j_buG2",
        "outputId": "11fc287c-1094-48f2-8fbd-2604ac8a3feb"
      },
      "execution_count": 10,
      "outputs": [
        {
          "output_type": "error",
          "ename": "SyntaxError",
          "evalue": "ignored",
          "traceback": [
            "\u001b[0;36m  File \u001b[0;32m\"<ipython-input-10-760fad9bd7b5>\"\u001b[0;36m, line \u001b[0;32m3\u001b[0m\n\u001b[0;31m    height=float(input('provide the height in inches')\u001b[0m\n\u001b[0m         ^\u001b[0m\n\u001b[0;31mSyntaxError\u001b[0m\u001b[0;31m:\u001b[0m invalid syntax\n"
          ]
        }
      ]
    }
  ]
}